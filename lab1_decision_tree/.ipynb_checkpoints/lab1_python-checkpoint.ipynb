{
 "cells": [
  {
   "cell_type": "code",
   "execution_count": null,
   "id": "d29cd795-a413-4d86-83a2-1266ae8171de",
   "metadata": {},
   "outputs": [],
   "source": [
    "# !pip install numpy matplotlib\n",
    "# !pip install scikit-learn"
   ]
  },
  {
   "cell_type": "code",
   "execution_count": 1,
   "id": "e26518a8-38fd-40ab-93e5-b8d5e8209531",
   "metadata": {},
   "outputs": [
    {
     "name": "stdout",
     "output_type": "stream",
     "text": [
      "Entropy: \n",
      "1.0\n",
      "1.0\n",
      "0.957117428264771\n",
      "0.9135964672699597\n",
      "0.9998061328047111\n",
      "0.9977724720899821\n",
      "\n",
      "Info Gain: \n",
      "0.075273 & 0.005838 & 0.004708 & 0.026312 & 0.287031 & 0.000758 & \n",
      "0.003756 & 0.002458 & 0.001056 & 0.015664 & 0.017277 & 0.006248 & \n",
      "0.007121 & 0.293736 & 0.000831 & 0.002892 & 0.255912 & 0.007077 & \n"
     ]
    }
   ],
   "source": [
    "# A1, A3\n",
    "import dtree\n",
    "import monkdata as m\n",
    "import numpy as np\n",
    "import matplotlib.pyplot as plt\n",
    "\n",
    "print(\"Entropy: \")\n",
    "\n",
    "print(dtree.entropy(m.monk1))\n",
    "print(dtree.entropy(m.monk1test))\n",
    "print(dtree.entropy(m.monk2))\n",
    "print(dtree.entropy(m.monk2test))\n",
    "print(dtree.entropy(m.monk3))\n",
    "print(dtree.entropy(m.monk3test))\n",
    "print()\n",
    "\n",
    "datasets = [m.monk1, m.monk2, m.monk3]\n",
    "\n",
    "print(\"Info Gain: \")\n",
    "for dataset in datasets:\n",
    "    for i in range(6):\n",
    "        print(str(round(dtree.averageGain(dataset, m.attributes[i]),6)) + \" & \", end=\"\")\n",
    "    print()"
   ]
  },
  {
   "cell_type": "code",
   "execution_count": 2,
   "id": "5e6ca32a-06fd-4227-bec4-7e7ad5cebe9f",
   "metadata": {},
   "outputs": [
    {
     "name": "stdout",
     "output_type": "stream",
     "text": [
      "Dataset   | Training Accuracy | Testing Accuracy\n",
      "-----------------------------------------------\n",
      "MONK-1    | 1.00             | 0.83           \n",
      "MONK-2    | 1.00             | 0.69           \n",
      "MONK-3    | 1.00             | 0.94           \n"
     ]
    }
   ],
   "source": [
    "# A0, A5\n",
    "import monkdata as m\n",
    "import dtree as d\n",
    "\n",
    "tree_monk1 = d.buildTree(m.monk1, m.attributes)\n",
    "train_acc_monk1 = d.check(tree_monk1, m.monk1)\n",
    "test_acc_monk1 = d.check(tree_monk1, m.monk1test)\n",
    "\n",
    "tree_monk2 = d.buildTree(m.monk2, m.attributes)\n",
    "train_acc_monk2 = d.check(tree_monk2, m.monk2)\n",
    "test_acc_monk2 = d.check(tree_monk2, m.monk2test)\n",
    "\n",
    "tree_monk3 = d.buildTree(m.monk3, m.attributes)\n",
    "train_acc_monk3 = d.check(tree_monk3, m.monk3)\n",
    "test_acc_monk3 = d.check(tree_monk3, m.monk3test)\n",
    "\n",
    "print(\"Dataset   | Training Accuracy | Testing Accuracy\")\n",
    "print(\"-----------------------------------------------\")\n",
    "print(f\"MONK-1    | {train_acc_monk1:<17.2f}| {test_acc_monk1:<15.2f}\")\n",
    "print(f\"MONK-2    | {train_acc_monk2:<17.2f}| {test_acc_monk2:<15.2f}\")\n",
    "print(f\"MONK-3    | {train_acc_monk3:<17.2f}| {test_acc_monk3:<15.2f}\")"
   ]
  },
  {
   "cell_type": "code",
   "execution_count": null,
   "id": "d517ca57-00a5-44cd-b839-9ad930015862",
   "metadata": {},
   "outputs": [],
   "source": []
  }
 ],
 "metadata": {
  "kernelspec": {
   "display_name": "Python 3 (ipykernel)",
   "language": "python",
   "name": "python3"
  },
  "language_info": {
   "codemirror_mode": {
    "name": "ipython",
    "version": 3
   },
   "file_extension": ".py",
   "mimetype": "text/x-python",
   "name": "python",
   "nbconvert_exporter": "python",
   "pygments_lexer": "ipython3",
   "version": "3.13.1"
  }
 },
 "nbformat": 4,
 "nbformat_minor": 5
}
